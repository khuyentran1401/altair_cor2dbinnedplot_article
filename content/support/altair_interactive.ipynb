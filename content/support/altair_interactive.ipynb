{
 "cells": [
  {
   "cell_type": "code",
   "execution_count": null,
   "metadata": {},
   "outputs": [],
   "source": [
    "import altair as at\n",
    "at.data_transformers.disable_max_rows()\n",
    "from vega_datasets import data\n",
    "from plydata import mutate\n",
    "\n",
    "plot_data = data.cars()\n",
    "plot_data.head()"
   ]
  },
  {
   "cell_type": "code",
   "execution_count": null,
   "metadata": {},
   "outputs": [],
   "source": [
    "at.Chart(plot_data).mark_circle(size=60).encode(\n",
    "    x='Weight_in_lbs',\n",
    "    y='Miles_per_Gallon',\n",
    "    tooltip=['Name', 'Origin', 'Horsepower', 'Miles_per_Gallon']\n",
    ").interactive()"
   ]
  },
  {
   "cell_type": "code",
   "execution_count": null,
   "metadata": {},
   "outputs": [],
   "source": [
    "flights = data.flights_20k()\n",
    "flights.head()"
   ]
  },
  {
   "cell_type": "code",
   "execution_count": null,
   "metadata": {},
   "outputs": [],
   "source": [
    "at.Chart(flights).mark_line().encode(\n",
    "    x='yearmonthdate(date):T',\n",
    "    y='mean(delay):Q'\n",
    ").interactive()"
   ]
  },
  {
   "cell_type": "code",
   "execution_count": null,
   "metadata": {},
   "outputs": [],
   "source": [
    "at.Chart(flights >> mutate(hourday=\"date.dt.strftime('%H')\")).mark_boxplot().encode(\n",
    "    at.X('delay:Q', title='delay'),\n",
    "    at.Y('hourday:N', title='hour of day', sort=[\"{:02d}\".format(num) for num in list(range(5,24))+list(range(5))])\n",
    ").interactive()"
   ]
  },
  {
   "cell_type": "code",
   "execution_count": null,
   "metadata": {},
   "outputs": [],
   "source": [
    "at.Chart(flights).mark_circle().encode(\n",
    "    x='distance:Q',\n",
    "    y='delay:Q'\n",
    ")"
   ]
  },
  {
   "cell_type": "code",
   "execution_count": null,
   "metadata": {},
   "outputs": [],
   "source": [
    "x=flights >> mutate(hourday=\"date.dt.strftime('%H')\")\n",
    "y=x['hourday'].unique()\n",
    "y.sort()\n",
    "y"
   ]
  },
  {
   "cell_type": "code",
   "execution_count": null,
   "metadata": {},
   "outputs": [],
   "source": []
  }
 ],
 "metadata": {
  "kernelspec": {
   "display_name": "Python 3",
   "language": "python",
   "name": "python3"
  },
  "language_info": {
   "codemirror_mode": {
    "name": "ipython",
    "version": 3
   },
   "file_extension": ".py",
   "mimetype": "text/x-python",
   "name": "python",
   "nbconvert_exporter": "python",
   "pygments_lexer": "ipython3",
   "version": "3.7.4"
  }
 },
 "nbformat": 4,
 "nbformat_minor": 4
}
